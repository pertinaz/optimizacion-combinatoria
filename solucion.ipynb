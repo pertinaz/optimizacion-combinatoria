{
 "cells": [
  {
   "cell_type": "markdown",
   "metadata": {},
   "source": [
    "# Taller - Examen"
   ]
  },
  {
   "cell_type": "markdown",
   "metadata": {},
   "source": [
    "## Punto 1:\n",
    "\n",
    "Un pequeño aeropuerto necesita organizar el horario de los vuelos de un día. El aeropuerto puede aceptar 10 vuelos cada hora y esta abierto 15 horas al día. Para establecer el horario de vuelos, el aeropuerto puede escoger vuelos de 10 compañías diferentes y cada compañía ofrece vuelos a 10 destinos diferentes.\n",
    "\n",
    "El horario no puede tener más de dos vuelos de la misma compañía a la misma hora y dos vuelos hacia el mismo destino de una compañía han de estar separados al menos seis horas.\n",
    "\n",
    "La ganancia que obtiene el aeropuerto por tener un vuelo de una compañía a un destino depende de su demanda. Queremos maximizar la ganancia del aeropuerto cumpliendo las restricciones. Podemos resolver el problema de dos formas diferentes, de las cuales especificaremos una de ella:\n",
    "\n",
    "* Usando A*, definiendo como estado la asignación de vuelos al horario. El estado inicial es el horario vacío, el estado final se obtiene cuando el horario está lleno. Como operador de búsqueda usamos la asignación de un vuelo de una compañía a un destino a una hora específica del horario, el coste será el dinero que el aeropuerto gana con este vuelo. Como función heurística usamos el número de vuelos que aún se han de asignar al estado.\n",
    "\n",
    "Comenta esta posibilidad indicando si resuelven o no el problema, qué errores te parece que tiene la solución y cómo se podrían corregir, y qué ventajas e inconvenientes tiene. Justifica la respuesta."
   ]
  },
  {
   "cell_type": "markdown",
   "metadata": {},
   "source": [
    "---\n",
    "---"
   ]
  },
  {
   "cell_type": "markdown",
   "metadata": {},
   "source": [
    "### JUAN MANUEL AGUDELO AGUIRRE - 1004682681"
   ]
  },
  {
   "cell_type": "markdown",
   "metadata": {},
   "source": [
    "\n",
    "# RESPUESTA \n",
    "### ORGANIZACION DE VUELOS\n",
    "1. Representación del problema\n",
    "\n",
    "    - Estado: Una matriz de 15×10 donde cada celda representa una hora y contiene una lista de vuelos asignados.\n",
    "\n",
    "    - Operadores: Agregar un vuelo de una compañía a un horario específico.\n",
    "\n",
    "    - Restricciones:\n",
    "        - No más de dos vuelos de la misma compañía a la misma hora.\n",
    "        - Vuelos al mismo destino de una compañía separados al menos 6 horas.\n",
    "\n",
    "    - Función de costo: Ganancia negativa del aeropuerto para que A* minimice el costo.\n",
    "\n",
    "    - Función heurística: Número de vuelos restantes penalizado por violaciones de restricciones.\n",
    "\n",
    "2. Diseño del algoritmo\n",
    "\n",
    "    - Definir el espacio de estados:\n",
    "        - Crear una estructura que represente el horario parcial.\n",
    "        - Incorporar una lista de vuelos pendientes para asignar.\n",
    "\n",
    "    - Crear operadores válidos:\n",
    "        - Verificar restricciones antes de aplicar el operador.\n",
    "\n",
    "    - Implementar una función heurística mejorada:\n",
    "        - Penalizar estados con conflictos.\n",
    "        - Priorizar estados que maximicen la ganancia.\n",
    "\n",
    "    - Estructurar el algoritmo A*:\n",
    "        - Usar una cola de prioridad basada en f(n)=g(n)+h(n)f(n)=g(n)+h(n).\n",
    "        - Explorar estados en orden de costo estimado más bajo.\n",
    "\n",
    "*Entrada*: Lista de vuelos disponibles (compañía, destino, ganancia).\n",
    "\n",
    "*Salida*: Horario óptimo que maximiza la ganancia cumpliendo restricciones.\n",
    "\n",
    "*Complejidad*: Depende del número de vuelos y restricciones, pero se mitiga con poda y heurística."
   ]
  },
  {
   "cell_type": "markdown",
   "metadata": {},
   "source": [
    "--- "
   ]
  },
  {
   "cell_type": "code",
   "execution_count": null,
   "metadata": {},
   "outputs": [],
   "source": [
    "from collections import defaultdict;\n",
    "# Definir el espacio de estados\n",
    "class EstadoHorario:\n",
    "    def __init__(self):\n",
    "        # Matris de 15 x 10\n",
    "        self.horario = [[[] for _ in range(10)] for _ in range(15)]\n",
    "\n",
    "        # Verificamos vuelos pendientes\n",
    "        self.vuelosPendientes = defaultdict(list) # Estructura del diccionario {compañia: [(destino,ganancia)]}\n",
    "\n",
    "    def restricciones(self,hora,posicion,compania, destino):\n",
    "        # Verifica que no haya mas de dos vuelos de la misma compañia en la misma hora \n",
    "        vuelosHora = [vuelo[0] for vuelo in self.horario[hora]]\n",
    "        if vuelosHora.count(compania) >=2:\n",
    "            return False\n",
    "        \n",
    "        # Verifica que exista una separacion de 6 horas entre vuelos al mismo destino\n",
    "        for h in range(max(0, hora-6), min(15,hora-6)):\n",
    "            if any(v[1] == destino and v[0] == compania for v in self.horario[h]):\n",
    "                return False\n",
    "        \n",
    "        return True"
   ]
  },
  {
   "cell_type": "markdown",
   "metadata": {},
   "source": [
    "---"
   ]
  },
  {
   "cell_type": "code",
   "execution_count": null,
   "metadata": {},
   "outputs": [],
   "source": [
    "# Crear operadores validos\n",
    "\n",
    "# Operadores: asignan vuelos al horario si cumplen las restricciones\n",
    "def asignarVuelo(estado, hora, posicion, compania, destino, ganancia):\n",
    "    \"\"\"\n",
    "    Asigna un vuelo al horario si es válido.\n",
    "    \"\"\"\n",
    "    if estado.es_valido(hora, posicion, compania, destino):\n",
    "        nuevoEstado = EstadoHorario()\n",
    "        nuevoEstado.horario = [fila[:] for fila in estado.horario]\n",
    "        nuevoEstado.horario[hora][posicion] = (compania, destino, ganancia)\n",
    "        nuevoEstado.vuelosPendientes = estado.vuelosPendientes.copy()\n",
    "        nuevoEstado.vuelosPendientes[compania].remove((destino, ganancia))\n",
    "        return nuevoEstado\n",
    "    \n",
    "    return None"
   ]
  },
  {
   "cell_type": "markdown",
   "metadata": {},
   "source": [
    "---"
   ]
  },
  {
   "cell_type": "code",
   "execution_count": null,
   "metadata": {},
   "outputs": [],
   "source": [
    "#Implementar heurística mejorada\n",
    "def heuristica(estado):\n",
    "    \"\"\"\n",
    "    Calcula la heurística como el número de vuelos pendientes menos una penalización por restricciones.\n",
    "    \"\"\"\n",
    "    penalizacion = 0\n",
    "    for hora in range(15):\n",
    "        for posicion in range(10):\n",
    "            vuelos = estado.horario[hora][posicion]\n",
    "            if len(vuelos) > 1:\n",
    "                penalizacion += 10  # Penalización por conflicto\n",
    "    vuelosRestantes = sum(len(v) for v in estado.vuelosPendientes.values())\n",
    "    \n",
    "    return vuelosRestantes + penalizacion"
   ]
  },
  {
   "cell_type": "markdown",
   "metadata": {},
   "source": [
    "---"
   ]
  },
  {
   "cell_type": "code",
   "execution_count": null,
   "metadata": {},
   "outputs": [],
   "source": [
    "import heapq;\n",
    "# Algoritmo A*: Para explorar los estados\n",
    "\n",
    "def aStar(InitialState):\n",
    "    openList = []\n",
    "    heapq.heappush(openList,(0,InitialState)); #(costo,estado)\n",
    "    closedList = set()\n",
    "\n",
    "    while openList:\n",
    "        actualCost,actualState = heapq.heappop(openList)\n",
    "\n",
    "        # Verifica si el estado esta completo\n",
    "        if all(not vuelos for vuelos in actualState.vuelosPendientes.values()):\n",
    "            return actualState\n",
    "        \n",
    "        closedList.add(str(actualState.horario)) # hash del estado\n",
    "\n",
    "\n",
    "        # genera los sucesores\n",
    "        for hora in range(15):\n",
    "            for posicion in range(10):\n",
    "                for compania, vuelos in actualState.vuelosPendientes.items():\n",
    "                    newState = asignarVuelo(actualState,hora,posicion,compania,destino, ganancia)\n",
    "                    if newState and str(newState.horario) not in closedList:\n",
    "                            newCost = actualCost + (-ganancia) + heuristica(newState)\n",
    "                            heapq.heappush(openList, (newCost, newState))\n"
   ]
  },
  {
   "cell_type": "markdown",
   "metadata": {},
   "source": [
    "---"
   ]
  },
  {
   "cell_type": "markdown",
   "metadata": {},
   "source": [
    "## Punto 2:\n",
    "\n",
    "Después de los incendios del verano se nos ha planteado rediseñar la ubicación de las estaciones de bomberos. Para solucionar el problema dividimos el área en una cuadrícula de $N×M$, cada posición tiene asignado un factor de accesibilidad A que toma un valor entero entre 1 y 3 (1 es una zona de fácil acceso, 3 es un área de difícil acceso).\n",
    "\n",
    "Deseamos ubicar un total de P estaciones de bomberos, cada estación puede tener entre uno y tres camiones. Tenemos un total de C camiones para repartir (obviamente C > P ).\n",
    "\n",
    "Definimos el factor de seguridad de una posición como la suma para esa posición y todas las que la rodean del cociente entre el número de camiones de bomberos que hay en esa posición y el factor de accesibilidad de cada posición.\n",
    "\n",
    "El objetivo es ubicar todos las estaciones de bomberos y repartir entre ellos todos los camiones de manera que el factor de seguridad global (la suma para todas las posiciones) sea el máximo posible.\n",
    "\n",
    "* Queremos utilizar A* de manera que recorremos la cuadrícula de la esquina superior izquierda a la inferior derecha. El estado es la asignación que hemos hecho de estaciones de bomberos y camiones a las áreas recorridas. Utilizamos como operador poner una estación de bomberos, asignando uno, dos o tres camiones en el caso de ponerlo, el coste del operador es el número de camiones asignados más uno, o no ponerlo con coste uno. La función heurística es el número de áreas que nos quedan por visitar y vale infinito si ya hemos asignado más de C camiones o P estaciones de bomberos."
   ]
  },
  {
   "cell_type": "markdown",
   "metadata": {},
   "source": [
    "# RESPUESTA\n",
    "\n",
    "### ESTACIONES DE BOMBEROS\n",
    "1. Representación del problema\n",
    "    - Estado: Una cuadrícula N×MN×M donde cada celda contiene:\n",
    "\n",
    "        - Número de estaciones de bomberos.\n",
    "        - Número de camiones asignados.\n",
    "\n",
    "    - Restricciones:\n",
    "\n",
    "        - No exceder PP estaciones de bomberos.\n",
    "        - Asignar exactamente CC camiones.\n",
    "        - Respetar el rango de 1 a 3 camiones por estación.\n",
    "\n",
    "    - Función de costo: \n",
    "        - Penalizar la cantidad de camiones y estaciones usadas para minimizar costos.\n",
    "\n",
    "    - Función heurística: \n",
    "        - Aproximar la mejora en el factor de seguridad con los camiones restantes.\n",
    "\n",
    "2. Diseño del algoritmo\n",
    "    - Estado inicial: \n",
    "        - Cuadrícula vacía sin estaciones ni camiones asignados.\n",
    "\n",
    "    - Espacio de estados:\n",
    "\n",
    "        -  Asignar estaciones de bomberos y camiones progresivamente.\n",
    "\n",
    "    - Operadores válidos:\n",
    "\n",
    "        -  Colocar una estación en una celda.\n",
    "        - Asignar 1, 2 o 3 camiones si la celda tiene una estación.\n",
    "\n",
    "    - Función heurística:\n",
    "\n",
    "        - Calcular el potencial incremento en el factor de seguridad basado en las celdas restantes.\n",
    "\n",
    "    - Criterio de finalización:\n",
    "\n",
    "        - Todas las estaciones (PP) y camiones (CC) han sido asignados.\n",
    "\n",
    "#### Ventajas del enfoque\n",
    "\n",
    "    *Restricciones respetadas*: Las restricciones son verificadas en cada paso.\n",
    "\n",
    "    *Óptimo global*: A* asegura la solución con el mayor factor de seguridad.\n",
    "\n",
    "    *Escalabilidad*: Puede adaptarse a cuadrículas más grandes y restricciones adicionales.\n",
    "\n",
    "#### Limitaciones\n",
    "\n",
    "    *Complejidad computacional*: Puede ser costoso si N×MN×M es grande.\n",
    "\n",
    "    *Dependencia de la heurística:* Una mala heurística puede ralentizar la solución."
   ]
  },
  {
   "cell_type": "markdown",
   "metadata": {},
   "source": [
    "---"
   ]
  },
  {
   "cell_type": "code",
   "execution_count": null,
   "metadata": {},
   "outputs": [],
   "source": [
    "# Representación del estado: cada celda almacena los datos necesarios\n",
    "class EstadoBomberos:\n",
    "    def __init__(self, n, m, p, c):\n",
    "        self.grid = [[{'estacion': 0, 'camiones': 0} for _ in range(m)] for _ in range(n)]\n",
    "        self.pRestantes = p  # Estaciones restantes por asignar\n",
    "        self.cRestantes = c  # Camiones restantes por asignar\n",
    "        self.n = n\n",
    "        self.m = m\n",
    "    \n",
    "    def valido(self, x, y, camiones):\n",
    "        \"\"\"\n",
    "        Verifica si es válido colocar una estación y asignar camiones en una celda.\n",
    "        \"\"\"\n",
    "        if self.grid[x][y]['estacion'] == 1:\n",
    "            return False  # Ya hay una estación en esta celda\n",
    "        if camiones > self.cRestantes:\n",
    "            return False  # No quedan suficientes camiones\n",
    "        return True\n"
   ]
  },
  {
   "cell_type": "markdown",
   "metadata": {},
   "source": [
    "---"
   ]
  },
  {
   "cell_type": "code",
   "execution_count": null,
   "metadata": {},
   "outputs": [],
   "source": [
    "# Operadores: definir estaciones y asignar camiones \n",
    "def asignarEstacion(estado, x, y, camiones):\n",
    "    \"\"\"\n",
    "    Asigna una estación de bomberos con camiones a una celda específica.\n",
    "    \"\"\"\n",
    "    if estado.valido(x, y, camiones):\n",
    "        newState = EstadoBomberos(estado.n, estado.m, estado.pRestantes, estado.cRestantes)\n",
    "        # Copia del estado actual\n",
    "        newState.grid = [fila[:] for fila in estado.grid]\n",
    "        newState.pRestantes = estado.pRestantes - 1\n",
    "        newState.cRestantes = estado.cRestantes - camiones\n",
    "        \n",
    "        # Asignar estación y camiones\n",
    "        newState.grid[x][y]['estacion'] = 1\n",
    "        newState.grid[x][y]['camiones'] = camiones\n",
    "        return  newState\n",
    "    return None\n"
   ]
  },
  {
   "cell_type": "markdown",
   "metadata": {},
   "source": [
    "---"
   ]
  },
  {
   "cell_type": "code",
   "execution_count": null,
   "metadata": {},
   "outputs": [],
   "source": [
    "# Heurística: estima la mejora potencial en factor de seguridad global\n",
    "\n",
    "def heuristica(estado):\n",
    "    \"\"\"\n",
    "    Calcula una heurística basada en el potencial incremento de seguridad.\n",
    "    \"\"\"\n",
    "    incrementoPotencial = 0\n",
    "    for x in range(estado.n):\n",
    "        for y in range(estado.m):\n",
    "            if estado.grid[x][y]['estacion'] == 0:  # Solo considerar celdas vacías\n",
    "                incrementoPotencial += 3 / 1  # Máxima mejora posible en áreas difíciles\n",
    "    return estado.pRestantes + estado.cRestantes - incrementoPotencial\n",
    "\n"
   ]
  },
  {
   "cell_type": "markdown",
   "metadata": {},
   "source": [
    "---"
   ]
  },
  {
   "cell_type": "code",
   "execution_count": null,
   "metadata": {},
   "outputs": [],
   "source": [
    "# Algoritmo A* para explorar los  estados\n",
    "import heapq\n",
    "\n",
    "def aStarBomberos(initialState):\n",
    "    \"\"\"\n",
    "    Implementa el algoritmo A* para maximizar el factor de seguridad global.\n",
    "    \"\"\"\n",
    "    openList = []\n",
    "    heapq.heappush(openList, (0, initialState))  # (costo, estado)\n",
    "    closedList = set()\n",
    "\n",
    "    while openList:\n",
    "        actualCost, actualState = heapq.heappop(openList)\n",
    "\n",
    "        # Si no quedan estaciones ni camiones, terminamos\n",
    "        if actualState.pRestantes == 0 and actualState.cRestantes == 0:\n",
    "            return actualState\n",
    "\n",
    "        closedList.add(str(actualState.grid))  # Hash del estado\n",
    "\n",
    "        # Generar sucesores\n",
    "        for x in range(actualState.n):\n",
    "            for y in range(actualState.m):\n",
    "                for camiones in range(1, 4):\n",
    "                    newState = asignarEstacion(actualState, x, y, camiones)\n",
    "                    if newState and str(newState.grid) not in closedList:\n",
    "                        costo_nuevo = actualCost + camiones + 1 + heuristica(newState)\n",
    "                        heapq.heappush(openList, (costo_nuevo, newState))\n",
    "    return None\n"
   ]
  },
  {
   "cell_type": "markdown",
   "metadata": {},
   "source": [
    "---"
   ]
  },
  {
   "cell_type": "code",
   "execution_count": null,
   "metadata": {},
   "outputs": [],
   "source": [
    "# ejemplo de uso: cuadricua 3x3 con P=2 y C=4 \n",
    "\n",
    "# Crear estado inicial\n",
    "n, m, p, c = 3, 3, 2, 4\n",
    "initialState = EstadoBomberos(n, m, p, c)\n",
    "\n",
    "# Ejecutar A*\n",
    "resultado = aStarBomberos(initialState)\n",
    "\n",
    "# Imprimir el resultado\n",
    "if resultado:\n",
    "    for fila in resultado.grid:\n",
    "        print(fila)\n",
    "else:\n",
    "    print(\"No se encontró una solución.\")\n",
    "\n"
   ]
  }
 ],
 "metadata": {
  "kernelspec": {
   "display_name": "Python 3",
   "language": "python",
   "name": "python3"
  },
  "language_info": {
   "codemirror_mode": {
    "name": "ipython",
    "version": 3
   },
   "file_extension": ".py",
   "mimetype": "text/x-python",
   "name": "python",
   "nbconvert_exporter": "python",
   "pygments_lexer": "ipython3",
   "version": "3.8.8"
  }
 },
 "nbformat": 4,
 "nbformat_minor": 4
}
